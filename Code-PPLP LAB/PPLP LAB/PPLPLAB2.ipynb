{
 "cells": [
  {
   "cell_type": "code",
   "execution_count": 1,
   "source": [
    "S=\"Hello SYBtech Students!!\"\r\n",
    "#Index\r\n",
    "print (S[4])\r\n",
    "#Length of String\r\n",
    "print(len(S))\r\n",
    "#Slicing\r\n",
    "print(S[6:10])"
   ],
   "outputs": [
    {
     "output_type": "stream",
     "name": "stdout",
     "text": [
      "o\n",
      "24\n",
      "SYBt\n"
     ]
    }
   ],
   "metadata": {}
  },
  {
   "cell_type": "code",
   "execution_count": 2,
   "source": [
    "#Concatination\r\n",
    "print(\"ABC\"+\"XYZ\")"
   ],
   "outputs": [
    {
     "output_type": "stream",
     "name": "stdout",
     "text": [
      "ABCXYZ\n"
     ]
    }
   ],
   "metadata": {}
  },
  {
   "cell_type": "code",
   "execution_count": 3,
   "source": [
    "s = \"Btech Student\"\r\n",
    "print(\"ABS\"+s)"
   ],
   "outputs": [
    {
     "output_type": "stream",
     "name": "stdout",
     "text": [
      "ABSBtech Student\n"
     ]
    }
   ],
   "metadata": {}
  },
  {
   "cell_type": "code",
   "execution_count": 4,
   "source": [
    "#Repetation\r\n",
    "print(\"ABC\\n\"*4)"
   ],
   "outputs": [
    {
     "output_type": "stream",
     "name": "stdout",
     "text": [
      "ABC\n",
      "ABC\n",
      "ABC\n",
      "ABC\n",
      "\n"
     ]
    }
   ],
   "metadata": {}
  },
  {
   "cell_type": "code",
   "execution_count": 5,
   "source": [
    "#upper and lower case\r\n",
    "s=\"ABdC\"\r\n",
    "s1=\"adsfngm\"\r\n",
    "print(s.lower())\r\n",
    "print(s1.upper())"
   ],
   "outputs": [
    {
     "output_type": "stream",
     "name": "stdout",
     "text": [
      "abdc\n",
      "ADSFNGM\n"
     ]
    }
   ],
   "metadata": {}
  },
  {
   "cell_type": "code",
   "execution_count": 6,
   "source": [
    "#captitalize: make capital first charcter and to lower everything\r\n",
    "str =\"this is string example\"+\"Hello\"+\"YOU\"\r\n",
    "print(\"str.capitalize(): \",str.capitalize())"
   ],
   "outputs": [
    {
     "output_type": "stream",
     "name": "stdout",
     "text": [
      "str.capitalize():  This is string examplehelloyou\n"
     ]
    }
   ],
   "metadata": {}
  },
  {
   "cell_type": "code",
   "execution_count": 7,
   "source": [
    "#count function\r\n",
    "str=\"Hello Students!\"\r\n",
    "sub='e'\r\n",
    "print(str.count(sub))\r\n",
    "print(str.count(sub,3,20))\r\n",
    "print(str.count(\"l\",4,20))"
   ],
   "outputs": [
    {
     "output_type": "stream",
     "name": "stdout",
     "text": [
      "2\n",
      "1\n",
      "0\n"
     ]
    }
   ],
   "metadata": {}
  },
  {
   "cell_type": "code",
   "execution_count": 8,
   "source": [
    "#find: return the index if found else -1\r\n",
    "s=\"This is an example of find\"\r\n",
    "s1=\"exam\"\r\n",
    "print(s.find(s1))\r\n",
    "print(s.find(\"axn\"))\r\n",
    "print(s.find(\"ple\",10,30))"
   ],
   "outputs": [
    {
     "output_type": "stream",
     "name": "stdout",
     "text": [
      "11\n",
      "-1\n",
      "15\n"
     ]
    }
   ],
   "metadata": {}
  },
  {
   "cell_type": "code",
   "execution_count": 9,
   "source": [
    "#replace function: (\"which string\",\"with which\",how many times)\r\n",
    "str=\"this is string example...wow!!! this is \"\r\n",
    "print(str.replace(\"is\",\"was\"))\r\n",
    "print(str.replace(\"is\",\"was\",0))"
   ],
   "outputs": [
    {
     "output_type": "stream",
     "name": "stdout",
     "text": [
      "thwas was string example...wow!!! thwas was \n",
      "this is string example...wow!!! this is \n"
     ]
    }
   ],
   "metadata": {}
  },
  {
   "cell_type": "code",
   "execution_count": 10,
   "source": [
    "#strip:check for first and last index then remove if found \r\n",
    "str=\"wthis is string example...wow!!! this iswt1\"\r\n",
    "print(str.strip('wt'))"
   ],
   "outputs": [
    {
     "output_type": "stream",
     "name": "stdout",
     "text": [
      "his is string example...wow!!! this iswt1\n"
     ]
    }
   ],
   "metadata": {}
  },
  {
   "cell_type": "code",
   "execution_count": 11,
   "source": [
    "#split: string.split()-spaces\r\n",
    "#string.split('*')- remove * and split\r\n",
    "#string.split('*',2)-remove 8 and split only two times reset become one string\r\n",
    "str=\"this is string example...wow!!! this is \"\r\n",
    "print(str.split())\r\n",
    "str=\"this is**str**ing examp**le...wow!!! this is \"\r\n",
    "print(str.split('*'))\r\n",
    "str=\"this is string example...wow!!! this is \"\r\n",
    "print(str.split('s',2))"
   ],
   "outputs": [
    {
     "output_type": "stream",
     "name": "stdout",
     "text": [
      "['this', 'is', 'string', 'example...wow!!!', 'this', 'is']\n",
      "['this is', '', 'str', '', 'ing examp', '', 'le...wow!!! this is ']\n",
      "['thi', ' i', ' string example...wow!!! this is ']\n"
     ]
    }
   ],
   "metadata": {}
  },
  {
   "cell_type": "code",
   "execution_count": 12,
   "source": [
    "#join\r\n",
    "s=\"-\"\r\n",
    "seq=(\"a\",\"b\",\"c\")\r\n",
    "print(s.join(seq))"
   ],
   "outputs": [
    {
     "output_type": "stream",
     "name": "stdout",
     "text": [
      "a-b-c\n"
     ]
    }
   ],
   "metadata": {}
  },
  {
   "cell_type": "code",
   "execution_count": 13,
   "source": [
    "#str.startswith(\"charcter\",start index,ending)\r\n",
    "str=\"this is string example...wow!!! this is \"\r\n",
    "print(str.startswith(\"this\"))\r\n",
    "print(str.startswith(\"is\",5))"
   ],
   "outputs": [
    {
     "output_type": "stream",
     "name": "stdout",
     "text": [
      "True\n",
      "True\n"
     ]
    }
   ],
   "metadata": {}
  },
  {
   "cell_type": "code",
   "execution_count": 14,
   "source": [
    "#endswith: \r\n",
    "suffix=\"!!\"\r\n",
    "str=\"this is string example...wow!!!\"\r\n",
    "print(str.endswith(suffix))\r\n",
    "print(str.endswith(suffix,20))\r\n",
    "print(str.endswith(suffix,40))"
   ],
   "outputs": [
    {
     "output_type": "stream",
     "name": "stdout",
     "text": [
      "True\n",
      "True\n",
      "False\n"
     ]
    }
   ],
   "metadata": {}
  },
  {
   "cell_type": "code",
   "execution_count": 15,
   "source": [
    "#index(): if found return index else give error substring not found\r\n",
    "str=\"this is string example.exam..wow!!! this is \"\r\n",
    "s=\"exam\"\r\n",
    "print(str.index(s))\r\n",
    "print(str.index(s,16))"
   ],
   "outputs": [
    {
     "output_type": "stream",
     "name": "stdout",
     "text": [
      "15\n",
      "23\n"
     ]
    }
   ],
   "metadata": {}
  },
  {
   "cell_type": "code",
   "execution_count": 16,
   "source": [
    "#isaplha(): check for every charcter to be alphabets and return True\r\n",
    "str=\"this is string example...wow!!! this is \"\r\n",
    "print(str.isalpha())"
   ],
   "outputs": [
    {
     "output_type": "stream",
     "name": "stdout",
     "text": [
      "False\n"
     ]
    }
   ],
   "metadata": {}
  },
  {
   "cell_type": "code",
   "execution_count": 1,
   "source": [
    "#Q1\r\n",
    "string=input(\"Enter String: \")\r\n",
    "print(len(string))\r\n",
    "print(string*10)\r\n",
    "print(string[0])\r\n",
    "print(string[0:3])\r\n",
    "print(string[len(string)-3:len(string)])\r\n",
    "n = len(string)\r\n",
    "print(string[::-1])\r\n",
    "if len(string)>7:\r\n",
    "    print(string[6])\r\n",
    "else:\r\n",
    "    print(\"Not Found\")\r\n",
    "print(string[1:-1])\r\n",
    "print(string.upper())\r\n",
    "print(string.replace(\"a\",\"e\"))\r\n",
    "string = string.replace(string,\" \")\r\n",
    "print(string)\r\n",
    "print(string.isspace())"
   ],
   "outputs": [
    {
     "output_type": "stream",
     "name": "stdout",
     "text": [
      "11\n",
      "Rohit SainiRohit SainiRohit SainiRohit SainiRohit SainiRohit SainiRohit SainiRohit SainiRohit SainiRohit Saini\n",
      "R\n",
      "Roh\n",
      "ini\n",
      "iniaS tihoR\n",
      "S\n",
      "ohit Sain\n",
      "ROHIT SAINI\n",
      "Rohit Seini\n",
      " \n",
      "True\n"
     ]
    }
   ],
   "metadata": {
    "scrolled": true
   }
  },
  {
   "cell_type": "code",
   "execution_count": 1,
   "source": [
    "#Q2. \r\n",
    "string = input(\"Enter Name: \")\r\n",
    "tolist = string.split(\" \")\r\n",
    "string= \"\"\r\n",
    "for i in tolist:\r\n",
    "    i=i.capitalize()\r\n",
    "    string += i + \" \"\r\n",
    "del tolist\r\n",
    "print(string)"
   ],
   "outputs": [
    {
     "output_type": "stream",
     "name": "stdout",
     "text": [
      "Enter Name: hello students welcome to SY BTECh\n",
      "Hello Students Welcome To Sy Btech \n"
     ]
    }
   ],
   "metadata": {}
  },
  {
   "cell_type": "code",
   "execution_count": 3,
   "source": [
    "#Q3.\n",
    "string = input(\"Enter String: \")\n",
    "k=len(string.split())\n",
    "print(\"Number of words : \", k)"
   ],
   "outputs": [
    {
     "output_type": "stream",
     "name": "stdout",
     "text": [
      "Enter String: hello name is rohit\n",
      "Number of words :  4\n"
     ]
    }
   ],
   "metadata": {}
  },
  {
   "cell_type": "code",
   "execution_count": 2,
   "source": [
    "#Q4 a\n",
    "vowel=0\n",
    "word = input(\"Enter word: \")\n",
    "if (word.isalnum()):\n",
    "    print(\"Wrong input! Enter a word\")\n",
    "    exit()\n",
    "else:\n",
    "    for i in word:\n",
    "        if(i == 'a' or i == 'e' or i == 'i' or i == 'o' or i == 'u' or i == 'A'or i == 'E' or i == 'I' or i == 'O' or i == 'U'):\n",
    "            vowel+=1\n",
    "print(\"Total vowels in \",word,\"is: \",vowel)"
   ],
   "outputs": [
    {
     "output_type": "stream",
     "name": "stdout",
     "text": [
      "Enter word: HELLO name\n",
      "Total vowels in  HELLO name is:  4\n"
     ]
    }
   ],
   "metadata": {}
  },
  {
   "cell_type": "code",
   "execution_count": 16,
   "source": [
    "#Q4 b\n",
    "word = input(\"Enter Word: \")\n",
    "if(word==word[::-1]):\n",
    "    print(\"Palindrome\")\n",
    "else: \n",
    "    print(\"Not palinrome\")"
   ],
   "outputs": [
    {
     "output_type": "stream",
     "name": "stdout",
     "text": [
      "Enter Word: name\n",
      "Not palinrome\n"
     ]
    }
   ],
   "metadata": {}
  },
  {
   "cell_type": "code",
   "execution_count": 15,
   "source": [
    "#Q5\n",
    "n = int(input(\"Number of Entries: \"))\n",
    "a = \"\"\n",
    "i,j,k,l,check1,check2=0,0,0,0,0,0\n",
    "while(i<n):\n",
    "    a=input()\n",
    "    if a.endswith(\"@student.mitwpu.edu\"):\n",
    "        check1+=1\n",
    "        j+=1  #to count  no. of student id for verification purpose\n",
    "    elif a.endswith(\"@prof.mitwpu.edu\"):\n",
    "        check2+=1\n",
    "        k+=1  #to count  no. of professor id for verification purpose\n",
    "    else:\n",
    "        l+=1  #to count  no. of wrong id for verification purpose\n",
    "    i+=1        \n",
    "if(check2==0):\n",
    "    print(\"All Student Id's\")\n",
    "elif(check1==0 and check2==0):\n",
    "    print(\"All Wrong Entries\")  #Just to check if code is working or not\n",
    "else:\n",
    "    print(\"Professor Id's Also Present\")\n",
    "print(\"Student Id's : \",j)\n",
    "print(\"Professor Id's : \",k)\n",
    "print(\"Wrong entries : \",l)"
   ],
   "outputs": [
    {
     "output_type": "stream",
     "name": "stdout",
     "text": [
      "Number of Entries: 5\n",
      "r\n",
      "w@student.mitwpu.edu.in\n",
      "p@prof.mitwpu.edu\n",
      "s@student.mitwpu.edu\n",
      "p@prof.mitwpu.edu\n",
      "Professor Id's Also Present\n",
      "Student Id's :  1\n",
      "Professor Id's :  2\n",
      "Wrong entries :  2\n"
     ]
    }
   ],
   "metadata": {
    "scrolled": true
   }
  }
 ],
 "metadata": {
  "kernelspec": {
   "name": "python3",
   "display_name": "Python 3.9.6 64-bit"
  },
  "language_info": {
   "codemirror_mode": {
    "name": "ipython",
    "version": 3
   },
   "file_extension": ".py",
   "mimetype": "text/x-python",
   "name": "python",
   "nbconvert_exporter": "python",
   "pygments_lexer": "ipython3",
   "version": "3.9.6"
  },
  "interpreter": {
   "hash": "4939cee7d422d5d39ee16b2098a2003c48e3d32b241388eaf77ab70ce4a2e0c8"
  }
 },
 "nbformat": 4,
 "nbformat_minor": 5
}