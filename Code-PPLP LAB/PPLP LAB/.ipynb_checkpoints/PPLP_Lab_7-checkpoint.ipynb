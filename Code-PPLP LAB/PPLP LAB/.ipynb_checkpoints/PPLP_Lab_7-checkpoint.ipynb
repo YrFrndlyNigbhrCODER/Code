{
 "cells": [
  {
   "cell_type": "code",
   "execution_count": 1,
   "id": "0431ab71",
   "metadata": {},
   "outputs": [
    {
     "name": "stdout",
     "output_type": "stream",
     "text": [
      "A: 12\n",
      "B: 0\n",
      "Not possible\n",
      "Done!\n"
     ]
    }
   ],
   "source": [
    "a = int(input(\"A: \"))\n",
    "b = int(input(\"B: \"))\n",
    "try:\n",
    "    res = a/b\n",
    "    print(res)\n",
    "except:\n",
    "    print(\"Not possible\")\n",
    "print(\"Done!\")"
   ]
  },
  {
   "cell_type": "code",
   "execution_count": 29,
   "id": "97e80506",
   "metadata": {
    "scrolled": true
   },
   "outputs": [
    {
     "name": "stdout",
     "output_type": "stream",
     "text": [
      "For Matrix 1\n",
      "Enter rows : 2\n",
      "Enter columns: 2\n",
      "For Matrix 2\n",
      "Enter rows : 2\n",
      "Enter columns: 2\n",
      "M1:1\n",
      "M1:2\n",
      "M1:3\n",
      "M1:4\n",
      "M2:1\n",
      "M2:0\n",
      "M2:2\n",
      "M2:3\n",
      "[[2. 2.]\n",
      " [5. 7.]]\n",
      "[[0. 2.]\n",
      " [1. 1.]]\n",
      "[[ 5.  6.]\n",
      " [11. 12.]]\n",
      "Division Not Possible!\n"
     ]
    }
   ],
   "source": [
    "import numpy as np\n",
    "def accept():\n",
    "    print(\"For Matrix 1\")\n",
    "    row = int(input(\"Enter rows : \"))\n",
    "    col = int(input(\"Enter columns: \"))\n",
    "    print(\"For Matrix 2\")\n",
    "    row1 = int(input(\"Enter rows : \"))\n",
    "    col1 = int(input(\"Enter columns: \"))\n",
    "    return row,col,row1,col1\n",
    "def check(row,col,row1,col1):\n",
    "    try:\n",
    "        if((row==row1) and (col==col1)):\n",
    "            return 1\n",
    "    except:\n",
    "        print(\"Not Equal!\")\n",
    "        return 0\n",
    "def check1(row,col,row1,col1):\n",
    "    try:\n",
    "        if((row==col1) and (col==row1)):\n",
    "            return 1\n",
    "    except:\n",
    "        print(\"Not Equal!\")\n",
    "        return 0\n",
    "        \n",
    "def add(M1,M2):\n",
    "    if(check(row,col,row1,col1)):\n",
    "            print(M1+M2)\n",
    "def sub(M1,M2):\n",
    "    try:\n",
    "        if(check(row,col,row1,col1)):\n",
    "            print(M1-M2)\n",
    "    except:\n",
    "        print(\"Not Possible!\")\n",
    "def mult(M1,M2):\n",
    "     if(check1(row,col,row1,col1)):\n",
    "        result =np.zeros((row,col1))\n",
    "        for i in range(0,row):\n",
    "            for j in range(0,col1):\n",
    "                for k in range(0,col):\n",
    "                    result[i][j] += M1[i][k] * M2[k][j]\n",
    "        print(result)\n",
    "    \n",
    "def div(M1,M2):\n",
    "    M3 =np.zeros((row,col))\n",
    "    try:\n",
    "        if(check(row,col,row1,col1)):\n",
    "            for i in range(0,row):\n",
    "                for j in range(0,col):\n",
    "                    M3[i][j] = M1[i][j] / M2[i][j]\n",
    "                    if(M3==(1/0)):\n",
    "                        raise ZeroDivisionError\n",
    "            res = M3\n",
    "    except ZeroDivisionError:\n",
    "        print(\"Division Not Possible!\")\n",
    "    else:\n",
    "        print(res)\n",
    "while True:\n",
    "    row,col,row1,col1=accept()\n",
    "    if(check(row,col,row1,col1)):\n",
    "        break\n",
    "    else:\n",
    "        row,col,row1,col1=accept()\n",
    "M1 =np.zeros((row,col))\n",
    "for i in range(0,row):\n",
    "    for j in range(0,col):\n",
    "        M1[i][j] = int(input(\"M1:\"))\n",
    "M2 =np.zeros((row1,col1))\n",
    "for i in range(0,row1):\n",
    "    for j in range(0,col1):\n",
    "        M2[i][j] = int(input(\"M2:\"))\n",
    "\n",
    "add(M1,M2)\n",
    "sub(M1,M2)\n",
    "mult(M1,M2)\n",
    "div(M1,M2)"
   ]
  },
  {
   "cell_type": "code",
   "execution_count": null,
   "id": "134b6c90",
   "metadata": {},
   "outputs": [],
   "source": []
  }
 ],
 "metadata": {
  "kernelspec": {
   "display_name": "Python 3 (ipykernel)",
   "language": "python",
   "name": "python3"
  },
  "language_info": {
   "codemirror_mode": {
    "name": "ipython",
    "version": 3
   },
   "file_extension": ".py",
   "mimetype": "text/x-python",
   "name": "python",
   "nbconvert_exporter": "python",
   "pygments_lexer": "ipython3",
   "version": "3.9.7"
  }
 },
 "nbformat": 4,
 "nbformat_minor": 5
}
